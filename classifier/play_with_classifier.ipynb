{
 "cells": [
  {
   "cell_type": "code",
   "execution_count": 10,
   "metadata": {},
   "outputs": [
    {
     "name": "stdout",
     "output_type": "stream",
     "text": [
      "['n005088' 'n005148' 'n007166' ... 'n007162' 'n004945' 'n005565']\n"
     ]
    }
   ],
   "source": [
    "from knn import KNN\n",
    "knn = KNN(train_data='../data/embeddings_test.csv', n_neighbors=15)"
   ]
  },
  {
   "cell_type": "code",
   "execution_count": 11,
   "metadata": {},
   "outputs": [],
   "source": [
    "knn.train_model()"
   ]
  },
  {
   "cell_type": "code",
   "execution_count": 12,
   "metadata": {},
   "outputs": [
    {
     "name": "stdout",
     "output_type": "stream",
     "text": [
      "              precision    recall  f1-score   support\n",
      "\n",
      "     n004678       0.71      0.71      0.71        42\n",
      "     n004788       0.75      0.49      0.59        55\n",
      "     n004945       0.34      0.43      0.38        58\n",
      "     n005073       0.75      0.87      0.80        47\n",
      "     n005088       0.40      0.48      0.43        48\n",
      "     n005104       0.56      0.71      0.62        89\n",
      "     n005137       0.67      0.34      0.45        29\n",
      "     n005148       0.57      0.66      0.61        32\n",
      "     n005225       0.49      0.72      0.59        40\n",
      "     n005294       0.64      0.73      0.68        52\n",
      "     n005316       0.54      0.76      0.63        75\n",
      "     n005565       0.71      0.49      0.58        59\n",
      "     n005630       0.63      0.67      0.65        72\n",
      "     n005648       0.65      0.78      0.70        80\n",
      "     n005706       0.70      0.43      0.53        53\n",
      "     n006211       0.50      0.59      0.54        29\n",
      "     n006987       0.83      0.45      0.59        11\n",
      "     n007162       0.77      0.53      0.63        64\n",
      "     n007166       0.60      0.46      0.52        39\n",
      "     n007261       0.80      0.69      0.74        71\n",
      "     n007594       0.60      0.24      0.34        25\n",
      "     n007651       0.40      0.17      0.24        23\n",
      "\n",
      "    accuracy                           0.60      1093\n",
      "   macro avg       0.62      0.56      0.57      1093\n",
      "weighted avg       0.62      0.60      0.60      1093\n",
      "\n"
     ]
    }
   ],
   "source": [
    "print(knn.get_classification_report())"
   ]
  },
  {
   "cell_type": "code",
   "execution_count": null,
   "metadata": {},
   "outputs": [],
   "source": []
  },
  {
   "cell_type": "code",
   "execution_count": null,
   "metadata": {},
   "outputs": [],
   "source": []
  }
 ],
 "metadata": {
  "kernelspec": {
   "display_name": "Python 3",
   "language": "python",
   "name": "python3"
  },
  "language_info": {
   "codemirror_mode": {
    "name": "ipython",
    "version": 3
   },
   "file_extension": ".py",
   "mimetype": "text/x-python",
   "name": "python",
   "nbconvert_exporter": "python",
   "pygments_lexer": "ipython3",
   "version": "3.6.8"
  }
 },
 "nbformat": 4,
 "nbformat_minor": 2
}
