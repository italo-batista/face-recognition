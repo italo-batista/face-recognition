{
 "cells": [
  {
   "cell_type": "code",
   "execution_count": 45,
   "metadata": {},
   "outputs": [],
   "source": [
    "from knn import KNN\n",
    "knn = KNN(train_data='../data/embeddings_test.csv', n_neighbors=15)\n",
    "knn.train_model()"
   ]
  },
  {
   "cell_type": "code",
   "execution_count": 46,
   "metadata": {},
   "outputs": [
    {
     "name": "stdout",
     "output_type": "stream",
     "text": [
      "              precision    recall  f1-score   support\n",
      "\n",
      "     n004678       0.66      0.83      0.74        42\n",
      "     n004788       0.68      0.36      0.47        47\n",
      "     n004945       0.36      0.48      0.41        61\n",
      "     n005073       0.75      0.82      0.79        56\n",
      "     n005088       0.39      0.43      0.41        44\n",
      "     n005104       0.39      0.68      0.49        72\n",
      "     n005137       0.92      0.35      0.51        31\n",
      "     n005148       0.57      0.62      0.60        32\n",
      "     n005225       0.65      0.76      0.70        41\n",
      "     n005294       0.51      0.62      0.56        42\n",
      "     n005316       0.57      0.82      0.67        76\n",
      "     n005565       0.68      0.53      0.60        53\n",
      "     n005630       0.66      0.62      0.64        77\n",
      "     n005648       0.69      0.69      0.69        85\n",
      "     n005706       0.75      0.42      0.54        57\n",
      "     n006211       0.43      0.39      0.41        41\n",
      "     n006987       1.00      0.38      0.55        16\n",
      "     n007162       0.70      0.50      0.58        74\n",
      "     n007166       0.53      0.41      0.46        39\n",
      "     n007261       0.86      0.80      0.83        61\n",
      "     n007594       0.71      0.50      0.59        24\n",
      "     n007651       0.23      0.14      0.17        22\n",
      "\n",
      "    accuracy                           0.59      1093\n",
      "   macro avg       0.62      0.55      0.56      1093\n",
      "weighted avg       0.62      0.59      0.59      1093\n",
      "\n"
     ]
    }
   ],
   "source": [
    "print(knn.get_classification_report())"
   ]
  },
  {
   "cell_type": "code",
   "execution_count": null,
   "metadata": {},
   "outputs": [],
   "source": []
  }
 ],
 "metadata": {
  "kernelspec": {
   "display_name": "Python 3",
   "language": "python",
   "name": "python3"
  },
  "language_info": {
   "codemirror_mode": {
    "name": "ipython",
    "version": 3
   },
   "file_extension": ".py",
   "mimetype": "text/x-python",
   "name": "python",
   "nbconvert_exporter": "python",
   "pygments_lexer": "ipython3",
   "version": "3.6.8"
  }
 },
 "nbformat": 4,
 "nbformat_minor": 2
}
